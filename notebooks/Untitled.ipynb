{
 "cells": [
  {
   "cell_type": "code",
   "execution_count": 1,
   "metadata": {
    "collapsed": true
   },
   "outputs": [],
   "source": [
    "import pandas as pd"
   ]
  },
  {
   "cell_type": "code",
   "execution_count": 2,
   "metadata": {
    "collapsed": true
   },
   "outputs": [],
   "source": [
    "import matplotlib.pyplot as plt"
   ]
  },
  {
   "cell_type": "code",
   "execution_count": 3,
   "metadata": {
    "collapsed": true
   },
   "outputs": [],
   "source": [
    "import networkx as nx"
   ]
  },
  {
   "cell_type": "code",
   "execution_count": 4,
   "metadata": {
    "collapsed": true
   },
   "outputs": [],
   "source": [
    "import re"
   ]
  },
  {
   "cell_type": "code",
   "execution_count": 5,
   "metadata": {
    "collapsed": false
   },
   "outputs": [],
   "source": [
    "names_df = pd.read_csv('data/name.basics.tsv', usecols=[0, 1, 2, 3, 4], sep='\\t', \\\n",
    "        converters={'primaryProfession': lambda x: re.split(',+', x)})"
   ]
  },
  {
   "cell_type": "code",
   "execution_count": 6,
   "metadata": {
    "collapsed": false
   },
   "outputs": [
    {
     "name": "stderr",
     "output_type": "stream",
     "text": [
      "C:\\Anaconda3\\lib\\site-packages\\IPython\\core\\interactiveshell.py:2902: DtypeWarning: Columns (5) have mixed types. Specify dtype option on import or set low_memory=False.\n",
      "  interactivity=interactivity, compiler=compiler, result=result)\n"
     ]
    }
   ],
   "source": [
    "titles_df = pd.read_csv('data/title.basics.tsv', usecols=[0,1,2,5,7,8], sep='\\t', \\\n",
    "        converters={'genres': lambda x: re.split(',+', x)}, na_filter=True)"
   ]
  },
  {
   "cell_type": "code",
   "execution_count": 7,
   "metadata": {
    "collapsed": false
   },
   "outputs": [],
   "source": [
    "actors_df = pd.read_csv('data/actors.list.tsv', header=None)"
   ]
  },
  {
   "cell_type": "code",
   "execution_count": 8,
   "metadata": {
    "collapsed": true
   },
   "outputs": [],
   "source": [
    "movies_df = pd.read_csv('data/movies.list.tsv', header=None)"
   ]
  },
  {
   "cell_type": "code",
   "execution_count": 9,
   "metadata": {
    "collapsed": false
   },
   "outputs": [],
   "source": [
    "actors = actors_df[0].tolist()"
   ]
  },
  {
   "cell_type": "code",
   "execution_count": 10,
   "metadata": {
    "collapsed": false
   },
   "outputs": [],
   "source": [
    "movies = movies_df[0].tolist()"
   ]
  },
  {
   "cell_type": "code",
   "execution_count": 11,
   "metadata": {
    "collapsed": false
   },
   "outputs": [],
   "source": [
    "ratings_df = pd.read_csv('data/title.ratings.tsv', sep='\\t', na_filter=True)"
   ]
  },
  {
   "cell_type": "code",
   "execution_count": 12,
   "metadata": {
    "collapsed": false
   },
   "outputs": [],
   "source": [
    "principals_df = pd.read_csv('data/title.principals.tsv', sep='\\t', na_filter=True)"
   ]
  },
  {
   "cell_type": "code",
   "execution_count": 13,
   "metadata": {
    "collapsed": false
   },
   "outputs": [],
   "source": [
    "names_df = names_df[names_df['nconst'].isin(actors)]"
   ]
  },
  {
   "cell_type": "code",
   "execution_count": 14,
   "metadata": {
    "collapsed": false,
    "scrolled": true
   },
   "outputs": [
    {
     "data": {
      "text/html": [
       "<div>\n",
       "<table border=\"1\" class=\"dataframe\">\n",
       "  <thead>\n",
       "    <tr style=\"text-align: right;\">\n",
       "      <th></th>\n",
       "      <th>nconst</th>\n",
       "      <th>primaryName</th>\n",
       "      <th>birthYear</th>\n",
       "      <th>deathYear</th>\n",
       "      <th>primaryProfession</th>\n",
       "    </tr>\n",
       "  </thead>\n",
       "  <tbody>\n",
       "    <tr>\n",
       "      <th>136</th>\n",
       "      <td>nm0000137</td>\n",
       "      <td>Bo Derek</td>\n",
       "      <td>1956</td>\n",
       "      <td>\\N</td>\n",
       "      <td>[actress, producer, miscellaneous]</td>\n",
       "    </tr>\n",
       "    <tr>\n",
       "      <th>144</th>\n",
       "      <td>nm0000145</td>\n",
       "      <td>Sherilyn Fenn</td>\n",
       "      <td>1965</td>\n",
       "      <td>\\N</td>\n",
       "      <td>[actress, soundtrack]</td>\n",
       "    </tr>\n",
       "    <tr>\n",
       "      <th>156</th>\n",
       "      <td>nm0000157</td>\n",
       "      <td>Linda Hamilton</td>\n",
       "      <td>1956</td>\n",
       "      <td>\\N</td>\n",
       "      <td>[actress]</td>\n",
       "    </tr>\n",
       "    <tr>\n",
       "      <th>161</th>\n",
       "      <td>nm0000162</td>\n",
       "      <td>Anne Heche</td>\n",
       "      <td>1969</td>\n",
       "      <td>\\N</td>\n",
       "      <td>[actress, writer, producer]</td>\n",
       "    </tr>\n",
       "    <tr>\n",
       "      <th>175</th>\n",
       "      <td>nm0000176</td>\n",
       "      <td>Nastassja Kinski</td>\n",
       "      <td>1961</td>\n",
       "      <td>\\N</td>\n",
       "      <td>[actress, producer, soundtrack]</td>\n",
       "    </tr>\n",
       "  </tbody>\n",
       "</table>\n",
       "</div>"
      ],
      "text/plain": [
       "        nconst       primaryName birthYear deathYear  \\\n",
       "136  nm0000137          Bo Derek      1956        \\N   \n",
       "144  nm0000145     Sherilyn Fenn      1965        \\N   \n",
       "156  nm0000157    Linda Hamilton      1956        \\N   \n",
       "161  nm0000162        Anne Heche      1969        \\N   \n",
       "175  nm0000176  Nastassja Kinski      1961        \\N   \n",
       "\n",
       "                      primaryProfession  \n",
       "136  [actress, producer, miscellaneous]  \n",
       "144               [actress, soundtrack]  \n",
       "156                           [actress]  \n",
       "161         [actress, writer, producer]  \n",
       "175     [actress, producer, soundtrack]  "
      ]
     },
     "execution_count": 14,
     "metadata": {},
     "output_type": "execute_result"
    }
   ],
   "source": [
    "names_df.head()"
   ]
  },
  {
   "cell_type": "code",
   "execution_count": 15,
   "metadata": {
    "collapsed": false
   },
   "outputs": [
    {
     "data": {
      "text/plain": [
       "<bound method NDFrame.describe of              nconst             primaryName birthYear deathYear  \\\n",
       "136       nm0000137                Bo Derek      1956        \\N   \n",
       "144       nm0000145           Sherilyn Fenn      1965        \\N   \n",
       "156       nm0000157          Linda Hamilton      1956        \\N   \n",
       "161       nm0000162              Anne Heche      1969        \\N   \n",
       "175       nm0000176        Nastassja Kinski      1961        \\N   \n",
       "221       nm0000222          Brooke Shields      1965        \\N   \n",
       "226       nm0000227            Mira Sorvino      1967        \\N   \n",
       "260       nm0000261             Karen Allen      1951        \\N   \n",
       "267       nm0000268             Ann-Margret      1941        \\N   \n",
       "283       nm0000284            Adam Baldwin      1962        \\N   \n",
       "286       nm0000287         William Baldwin      1963        \\N   \n",
       "303       nm0000304             Linda Blair      1959        \\N   \n",
       "307       nm0000308         Ernest Borgnine      1917      2012   \n",
       "309       nm0000310        Bruce Boxleitner      1950        \\N   \n",
       "326       nm0000327           Lacey Chabert      1982        \\N   \n",
       "334       nm0000335             Glenn Close      1947        \\N   \n",
       "335       nm0000336            James Coburn      1928      2002   \n",
       "336       nm0000337      Rachael Leigh Cook      1979        \\N   \n",
       "348       nm0000349             Joan Cusack      1962        \\N   \n",
       "356       nm0000357       Lolita Davidovich      1961        \\N   \n",
       "375       nm0000376           Fran Drescher      1957        \\N   \n",
       "382       nm0000383           Jennifer Ehle      1969        \\N   \n",
       "384       nm0000385             Sam Elliott      1944        \\N   \n",
       "391       nm0000392        Morgan Fairchild      1950        \\N   \n",
       "392       nm0000393              Peter Falk      1927      2011   \n",
       "404       nm0000405         Michelle Forbes      1965        \\N   \n",
       "406       nm0000407           Vivica A. Fox      1964        \\N   \n",
       "417       nm0000418            Danny Glover      1946        \\N   \n",
       "426       nm0000427               Pam Grier      1949        \\N   \n",
       "429       nm0000430        Steve Guttenberg      1958        \\N   \n",
       "...             ...                     ...       ...       ...   \n",
       "10665402  nm9192216     Justine Christensen        \\N        \\N   \n",
       "10674655  nm9203667           Bobby Daniels        \\N        \\N   \n",
       "10716263  nm9255499           Nadine Bhabha        \\N        \\N   \n",
       "10784679  nm9339903         Callum Shoniker      2009        \\N   \n",
       "10798724  nm9357126             Andrea Agur        \\N        \\N   \n",
       "10822317  nm9385786         Dominic Mariche        \\N        \\N   \n",
       "10826543  nm9391096            Alanna Smith        \\N        \\N   \n",
       "10836938  nm9404185  Christopher Quartuccio        \\N        \\N   \n",
       "10867235  nm9441069             Amanda Wong        \\N        \\N   \n",
       "10884178  nm9460841             Marla Renae        \\N        \\N   \n",
       "10885222  nm9462060        Callum Alexander        \\N        \\N   \n",
       "10889758  nm9467495       Simbarashe Matshe        \\N        \\N   \n",
       "10897639  nm9476787          Sophie Neudorf        \\N        \\N   \n",
       "10956180  nm9546091          Nakai Takawira        \\N        \\N   \n",
       "10980644  nm9575766         Jennifer Austin        \\N        \\N   \n",
       "10990839  nm9587926           Eugene Baffoe        \\N        \\N   \n",
       "10991676  nm9588990       Hannah Grace Hays        \\N        \\N   \n",
       "11021258  nm9624740                John Way        \\N        \\N   \n",
       "11021365  nm9624864  Skylar Olivia Flanagan        \\N        \\N   \n",
       "11051048  nm9659053              Ross Jirgl        \\N        \\N   \n",
       "11052740  nm9660985       Tyler Kay Whitley        \\N        \\N   \n",
       "11074224  nm9685851           Mika Mitchell        \\N        \\N   \n",
       "11087858  nm9703049        Zoë Noelle Baker        \\N        \\N   \n",
       "11138022  nm9762057        Katrina Reynolds        \\N        \\N   \n",
       "11151368  nm9777171          Daphne Hoskins        \\N        \\N   \n",
       "11152906  nm9778960        Michaela Russell        \\N        \\N   \n",
       "11230048  nm9868363        Kayden Boisclair        \\N        \\N   \n",
       "11260280  nm9903089        Rachel O'Connell        \\N        \\N   \n",
       "11317573  nm9969736              Ana Araujo        \\N        \\N   \n",
       "11330388  nm9984616              Leah Jenea        \\N        \\N   \n",
       "\n",
       "                                    primaryProfession  \n",
       "136                [actress, producer, miscellaneous]  \n",
       "144                             [actress, soundtrack]  \n",
       "156                                         [actress]  \n",
       "161                       [actress, writer, producer]  \n",
       "175                   [actress, producer, soundtrack]  \n",
       "221                   [actress, producer, soundtrack]  \n",
       "226                   [actress, producer, soundtrack]  \n",
       "260                   [actress, director, soundtrack]  \n",
       "267                             [actress, soundtrack]  \n",
       "283                               [actor, soundtrack]  \n",
       "286                         [actor, producer, stunts]  \n",
       "303                   [actress, soundtrack, producer]  \n",
       "307                     [actor, soundtrack, producer]  \n",
       "309                     [actor, soundtrack, producer]  \n",
       "326                   [actress, soundtrack, producer]  \n",
       "334                   [actress, producer, soundtrack]  \n",
       "335                       [actor, producer, director]  \n",
       "336                               [actress, producer]  \n",
       "348                     [actress, soundtrack, writer]  \n",
       "356                                         [actress]  \n",
       "375                       [writer, actress, producer]  \n",
       "382                                         [actress]  \n",
       "384                     [actor, producer, soundtrack]  \n",
       "391                   [actress, soundtrack, producer]  \n",
       "392                     [actor, producer, soundtrack]  \n",
       "404                                         [actress]  \n",
       "406                   [actress, producer, soundtrack]  \n",
       "417                       [actor, producer, director]  \n",
       "426                     [actress, soundtrack, writer]  \n",
       "429                     [actor, producer, soundtrack]  \n",
       "...                                               ...  \n",
       "10665402        [actress, writer, assistant_director]  \n",
       "10674655                                      [actor]  \n",
       "10716263                  [actress, writer, producer]  \n",
       "10784679     [actor, miscellaneous, music_department]  \n",
       "10798724           [actress, producer, miscellaneous]  \n",
       "10822317                                      [actor]  \n",
       "10826543                                    [actress]  \n",
       "10836938                                      [actor]  \n",
       "10867235                  [actress, writer, producer]  \n",
       "10884178                                    [actress]  \n",
       "10885222                                      [actor]  \n",
       "10889758                                      [actor]  \n",
       "10897639                                    [actress]  \n",
       "10956180                                    [actress]  \n",
       "10980644                                           []  \n",
       "10990839                  [actor, director, producer]  \n",
       "10991676                                           []  \n",
       "11021258                          [actor, soundtrack]  \n",
       "11021365                                      [actor]  \n",
       "11051048                                      [actor]  \n",
       "11052740                                    [actress]  \n",
       "11074224                                    [actress]  \n",
       "11087858                                    [actress]  \n",
       "11138022                                    [actress]  \n",
       "11151368                                    [actress]  \n",
       "11152906                     [actress, miscellaneous]  \n",
       "11230048  [actor, miscellaneous, location_management]  \n",
       "11260280                 [actress, camera_department]  \n",
       "11317573                                    [actress]  \n",
       "11330388                                    [actress]  \n",
       "\n",
       "[2469 rows x 5 columns]>"
      ]
     },
     "execution_count": 15,
     "metadata": {},
     "output_type": "execute_result"
    }
   ],
   "source": [
    "names_df.describe"
   ]
  },
  {
   "cell_type": "code",
   "execution_count": null,
   "metadata": {
    "collapsed": true
   },
   "outputs": [],
   "source": []
  }
 ],
 "metadata": {
  "kernelspec": {
   "display_name": "Python 3",
   "language": "python",
   "name": "python3"
  },
  "language_info": {
   "codemirror_mode": {
    "name": "ipython",
    "version": 3
   },
   "file_extension": ".py",
   "mimetype": "text/x-python",
   "name": "python",
   "nbconvert_exporter": "python",
   "pygments_lexer": "ipython3",
   "version": "3.5.1"
  }
 },
 "nbformat": 4,
 "nbformat_minor": 0
}
